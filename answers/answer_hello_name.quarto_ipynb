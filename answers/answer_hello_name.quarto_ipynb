{
  "cells": [
    {
      "cell_type": "markdown",
      "metadata": {},
      "source": [
        "---\n",
        "jupyter: python3\n",
        "---\n",
        "\n",
        "\n",
        "To get input from the person running your script, you can use the [`input()`](https://docs.python.org/3/library/functions.html#input) function.\n",
        "\n",
        "If you pass a string argument to it, it will use that as the \"prompt\" when asking for input.\n"
      ],
      "id": "880629d8"
    },
    {
      "cell_type": "code",
      "metadata": {
        "tags": [
          "remove_cell"
        ]
      },
      "source": [
        "%load_ext interactive_system_magic"
      ],
      "id": "6df50eb7",
      "execution_count": null,
      "outputs": []
    },
    {
      "cell_type": "code",
      "metadata": {},
      "source": [
        "%%writefile hello.py\n",
        "\n",
        "my_name = input(\"Please tell me your name: \")\n",
        "\n",
        "name_length = len(my_name)\n",
        "\n",
        "print(f\"Hello {my_name}! Your name is {name_length} characters long\")"
      ],
      "id": "a23c0d4c",
      "execution_count": null,
      "outputs": []
    },
    {
      "cell_type": "code",
      "metadata": {
        "tags": []
      },
      "source": [
        "%%run_python_script -i hello.py\n",
        "Matt"
      ],
      "id": "3c46f16a",
      "execution_count": null,
      "outputs": []
    }
  ],
  "metadata": {
    "kernelspec": {
      "name": "python3",
      "language": "python",
      "display_name": "Python 3 (ipykernel)",
      "path": "/Users/lg14410/teaching/courses/python/intermediate_python/venv/share/jupyter/kernels/python3"
    }
  },
  "nbformat": 4,
  "nbformat_minor": 5
}